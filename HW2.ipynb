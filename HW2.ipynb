{
  "nbformat": 4,
  "nbformat_minor": 0,
  "metadata": {
    "colab": {
      "name": "HW2.ipynb",
      "provenance": [],
      "collapsed_sections": [],
      "authorship_tag": "ABX9TyPOoDLGFG2HFKGoalPX/STa",
      "include_colab_link": true
    },
    "kernelspec": {
      "name": "python3",
      "display_name": "Python 3"
    },
    "language_info": {
      "name": "python"
    }
  },
  "cells": [
    {
      "cell_type": "markdown",
      "metadata": {
        "id": "view-in-github",
        "colab_type": "text"
      },
      "source": [
        "<a href=\"https://colab.research.google.com/github/magdalena-eee/skku/blob/main/HW2.ipynb\" target=\"_parent\"><img src=\"https://colab.research.google.com/assets/colab-badge.svg\" alt=\"Open In Colab\"/></a>"
      ]
    },
    {
      "cell_type": "markdown",
      "source": [
        "# Homework 2: Google Colab\n",
        "by: Magdalena Eschenbacher"
      ],
      "metadata": {
        "id": "KWdAYCPmIj6C"
      }
    },
    {
      "cell_type": "code",
      "execution_count": null,
      "metadata": {
        "colab": {
          "base_uri": "https://localhost:8080/"
        },
        "id": "mNOkJdvYGvEs",
        "outputId": "e7b1f508-c659-4f2f-cbfc-c382c1fcdadd"
      },
      "outputs": [
        {
          "output_type": "stream",
          "name": "stdout",
          "text": [
            "3\n"
          ]
        }
      ],
      "source": [
        "print(1+2)"
      ]
    },
    {
      "cell_type": "code",
      "source": [
        "from datetime import datetime\n",
        "date= datetime.now()\n",
        "stemp = datetime.timestamp(date)\n",
        "print(\"Date and time: \", date)\n",
        "print(\"Timestamp: \", stemp)"
      ],
      "metadata": {
        "colab": {
          "base_uri": "https://localhost:8080/"
        },
        "id": "OIdmeKi-HBBe",
        "outputId": "043654ef-bdc6-4e3b-be1d-c788e241418a"
      },
      "execution_count": 6,
      "outputs": [
        {
          "output_type": "stream",
          "name": "stdout",
          "text": [
            "Date and time:  2022-06-29 06:16:57.116520\n",
            "Timestamp:  1656483417.11652\n"
          ]
        }
      ]
    },
    {
      "cell_type": "code",
      "source": [
        "print('hello world')"
      ],
      "metadata": {
        "colab": {
          "base_uri": "https://localhost:8080/"
        },
        "id": "wT_TrZcFIKEJ",
        "outputId": "a46a4be7-2d07-47aa-a1fb-ff3d698aa669"
      },
      "execution_count": null,
      "outputs": [
        {
          "output_type": "stream",
          "name": "stdout",
          "text": [
            "hello world\n"
          ]
        }
      ]
    },
    {
      "cell_type": "code",
      "source": [
        "from datetime import datetime\n",
        "date= datetime.now()\n",
        "stemp = datetime.timestamp(date)\n",
        "print(\"Date and time: \", date)\n",
        "print(\"Timestamp: \", stemp)"
      ],
      "metadata": {
        "colab": {
          "base_uri": "https://localhost:8080/"
        },
        "id": "rXaC0nZMIO0h",
        "outputId": "d0f867aa-3929-44f3-db3b-9eb6ce3b77ae"
      },
      "execution_count": 7,
      "outputs": [
        {
          "output_type": "stream",
          "name": "stdout",
          "text": [
            "Date and time:  2022-06-29 06:17:01.716067\n",
            "Timestamp:  1656483421.716067\n"
          ]
        }
      ]
    }
  ]
}